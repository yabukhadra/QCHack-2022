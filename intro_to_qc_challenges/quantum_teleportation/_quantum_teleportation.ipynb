{
 "cells": [
  {
   "cell_type": "markdown",
   "metadata": {},
   "source": [
    "# Quantum Teleportation qBraid Challenge\n",
    "Quantum teleportation is a technique for transferring quantum information from a sender at one location to a receiver some distance away. \n",
    "In this challenge you and your team are tasked to develop a Quantum Teleportation circuit in Amazon Braket. You'll make the quantum teleportation circuit and then use our qBraid-SDK to transpile it to various other quantum computing languages and run it on some backends!\n",
    "\n",
    "While not necessarily coding intensive, we'd like to see plenty of extensions\n",
    "\n",
    "Before you get started make sure that:\n",
    "\n",
    "- You've enabled your qBraid Amazon Braket account. `qbraid enable account qbraid_sdk`\n",
    "- You've activated the qBraid-SDK environment and are using the qBraid-SDK Python 3 kernel (on the top right you should see **Python 3 [qBraid-SDK]**)\n",
    "- *Please copy this file and rename it <team_name>\\_quantum_teleportation.ipynb*- we'd like to avoid merge conflicts with other submissions!"
   ]
  },
  {
   "cell_type": "markdown",
   "metadata": {},
   "source": [
    "## Submission Checklist\n",
    "- Make sure to include a readme!\n",
    "- Make sure you've run or queued your solution on a real quantum computer (Rigetti M-1 perferred)\n",
    "- Get creative! We'd love to see extensions to this challenge, such as making a game, nice frontends, find interesting ways to use our sdk etc.\n",
    "\n",
    "## Judging Criteria\n",
    "- Your code must include a README.md which describes your implementation and includes how to run your solution.\n",
    "- Your code should be documented and easy to understand!\n",
    "- There are plenty of implementations on the web to guide you in better understanding Quantum Teleporation. Feel free to use them as guidance, but do code your solutions with as few out of box solutions \n",
    "    ie don't `from some_package import QuantumTeleportation`\n",
    "- Your code must run a job on real hardware using the qBraid Amazon Braket Account.\n",
    "\n"
   ]
  },
  {
   "cell_type": "markdown",
   "metadata": {},
   "source": [
    "## Challenge description\n",
    "- Implement a quantum telporation circuit and measure the results on a real quantum computer.\n",
    "- Use the qBraid-SDK to transpile the circuit to various other languages and run it on simulators and available hardware (assuming you have an account/it is accessible to you)\n",
    "- Come up with creative ways to embellish on this challenge!"
   ]
  },
  {
   "cell_type": "markdown",
   "metadata": {},
   "source": [
    "## qBraid-SDK demo\n",
    "We will provide a quick demo of the SDK here, but please also refer to the two notebooks to see how the SDK can be used to transpile your circuit"
   ]
  },
  {
   "cell_type": "code",
   "execution_count": 2,
   "metadata": {
    "vscode": {
     "languageId": "plaintext"
    }
   },
   "outputs": [
    {
     "name": "stdout",
     "output_type": "stream",
     "text": [
      "\u001b[0;35m You have already enabled quantum jobs to be submitted with qBraid.\u001b[0m\n",
      "\u001b[0;35m You have already enabled quantum jobs to be submitted with qBraid.\u001b[0m\n"
     ]
    }
   ],
   "source": [
    "#We modified the \"Getting started with Amazon Braket\" and \"Enable account to access Braket QPUs\" demos in order \n",
    "#to create and measure outputs from a circuit that uses two EPR pairs (shared between wires 0 and 1, and \n",
    "# 2 and 3) and teleportation to create an EPR pair between wires 3 and 0.\n",
    "\n",
    "!qbraid enable account aws_braket\n",
    "\n",
    "# for the qbraid_sdk run the following command\n",
    "#  in your terminal or in the notebook\n",
    "!qbraid enable account qbraid_sdk\n",
    "\n",
    "# AWS imports: Import Braket SDK modules\n",
    "from braket.circuits import Circuit, Gate, Instruction, circuit, Observable\n",
    "#from braket.devices import rigetti\n",
    "from braket.aws import AwsDevice, AwsQuantumTask\n",
    "import matplotlib.pyplot as plot"
   ]
  },
  {
   "cell_type": "code",
   "execution_count": 3,
   "metadata": {
    "vscode": {
     "languageId": "plaintext"
    }
   },
   "outputs": [
    {
     "name": "stdout",
     "output_type": "stream",
     "text": [
      "T  : |0|1|2|3|4|\n",
      "                \n",
      "q0 : -H-C-------\n",
      "        |       \n",
      "q1 : ---X-C-H-C-\n",
      "          |   | \n",
      "q2 : -H-C-X-C-|-\n",
      "        |   | | \n",
      "q3 : ---X---X-Z-\n",
      "\n",
      "T  : |0|1|2|3|4|\n"
     ]
    }
   ],
   "source": [
    "# create the circuit\n",
    "bell1 = Circuit().h(0).cnot(0, 1)\n",
    "bell2 = bell1.h(2).cnot(2, 3)\n",
    "next_stage = bell2.cnot(1,2)\n",
    "final_stage = next_stage.h(1).cnot(2,3).cz(1,3)\n",
    "print(final_stage)"
   ]
  },
  {
   "cell_type": "code",
   "execution_count": 4,
   "metadata": {},
   "outputs": [],
   "source": [
    "# the name of the bucket\n",
    "my_bucket = \"example-bucket\"\n",
    "# the name of the folder in the bucket\n",
    "my_prefix = \"example-folder\"\n",
    "s3_folder = (my_bucket, my_prefix)"
   ]
  },
  {
   "cell_type": "code",
   "execution_count": 5,
   "metadata": {},
   "outputs": [
    {
     "name": "stdout",
     "output_type": "stream",
     "text": [
      "Counter({'1111': 150, '0000': 140, '1001': 126, '0100': 125, '1011': 121, '0010': 121, '0110': 109, '1101': 108})\n"
     ]
    }
   ],
   "source": [
    "# choose the cloud-based managed simulator to run your circuit\n",
    "device = AwsDevice(\"arn:aws:braket:::device/quantum-simulator/amazon/sv1\")\n",
    "#device = AwsDevice('arn:aws:braket:us-west-1::device/qpu/rigetti/Aspen-M-1')\n",
    "\n",
    "# execute the circuit\n",
    "task = device.run(final_stage, s3_folder, shots=1000)\n",
    "# display the results\n",
    "counts = task.result().measurement_counts\n",
    "print(counts)"
   ]
  },
  {
   "cell_type": "code",
   "execution_count": null,
   "metadata": {},
   "outputs": [],
   "source": [
    "device2 = AwsDevice('arn:aws:braket:us-west-1::device/qpu/rigetti/Aspen-M-1')\n",
    "\n",
    "# execute the circuit\n",
    "task2 = device2.run(final_stage, s3_folder, shots=1000)\n",
    "# display the results\n",
    "counts2 = task2.result().measurement_counts\n",
    "print(counts2)"
   ]
  },
  {
   "cell_type": "code",
   "execution_count": 6,
   "metadata": {},
   "outputs": [
    {
     "data": {
      "text/plain": [
       "Text(0.5, 1.0, 'Simulation Results')"
      ]
     },
     "execution_count": 6,
     "metadata": {},
     "output_type": "execute_result"
    },
    {
     "data": {
      "image/png": "[encoded data removed]",
      "text/plain": [
       "<Figure size 432x288 with 1 Axes>"
      ]
     },
     "metadata": {
      "needs_background": "light"
     },
     "output_type": "display_data"
    }
   ],
   "source": [
    "plot.bar(counts.keys(), counts.values())\n",
    "plot.xlabel('bitstrings')\n",
    "plot.ylabel('counts')\n",
    "plot.title('Simulation Results')"
   ]
  },
  {
   "cell_type": "code",
   "execution_count": null,
   "metadata": {},
   "outputs": [],
   "source": [
    "plot.bar(counts2.keys(), counts2.values())\n",
    "plot.xlabel('bitstrings')\n",
    "plot.ylabel('counts')\n",
    "plot.title('Quantum Hardware Results')"
   ]
  },
  {
   "cell_type": "code",
   "execution_count": 3,
   "metadata": {
    "vscode": {
     "languageId": "plaintext"
    }
   },
   "outputs": [
    {
     "ename": "NameError",
     "evalue": "name 'rigetti' is not defined",
     "output_type": "error",
     "traceback": [
      "\u001b[0;31m---------------------------------------------------------------------------\u001b[0m",
      "\u001b[0;31mNameError\u001b[0m                                 Traceback (most recent call last)",
      "\u001b[0;32m/tmp/ipykernel_901/963411162.py\u001b[0m in \u001b[0;36m<module>\u001b[0;34m\u001b[0m\n\u001b[1;32m      1\u001b[0m \u001b[0;31m# run circuit\u001b[0m\u001b[0;34m\u001b[0m\u001b[0;34m\u001b[0m\u001b[0m\n\u001b[0;32m----> 2\u001b[0;31m \u001b[0mrigetti_task\u001b[0m \u001b[0;34m=\u001b[0m \u001b[0mrigetti\u001b[0m\u001b[0;34m.\u001b[0m\u001b[0mrun\u001b[0m\u001b[0;34m(\u001b[0m\u001b[0mYOUR_CIRCUIT\u001b[0m\u001b[0;34m,\u001b[0m \u001b[0mshots\u001b[0m\u001b[0;34m=\u001b[0m\u001b[0;36m1000\u001b[0m\u001b[0;34m)\u001b[0m\u001b[0;34m\u001b[0m\u001b[0;34m\u001b[0m\u001b[0m\n\u001b[0m\u001b[1;32m      3\u001b[0m \u001b[0;34m\u001b[0m\u001b[0m\n\u001b[1;32m      4\u001b[0m \u001b[0;31m# get id and status of submitted task\u001b[0m\u001b[0;34m\u001b[0m\u001b[0;34m\u001b[0m\u001b[0m\n\u001b[1;32m      5\u001b[0m \u001b[0mrigetti_task_id\u001b[0m \u001b[0;34m=\u001b[0m \u001b[0mrigetti_task\u001b[0m\u001b[0;34m.\u001b[0m\u001b[0mid\u001b[0m\u001b[0;34m\u001b[0m\u001b[0;34m\u001b[0m\u001b[0m\n",
      "\u001b[0;31mNameError\u001b[0m: name 'rigetti' is not defined"
     ]
    }
   ],
   "source": [
    "# # run circuit \n",
    "# rigetti_task = rigetti.run(final_stage, shots=1000)\n",
    "\n",
    "# # get id and status of submitted task\n",
    "# rigetti_task_id = rigetti_task.id\n",
    "# rigetti_status = rigetti_task.state()\n",
    "# # print('ID of task:', rigetti_task_id)\n",
    "# print('Status of task:', rigetti_status)"
   ]
  },
  {
   "cell_type": "code",
   "execution_count": null,
   "metadata": {
    "vscode": {
     "languageId": "plaintext"
    }
   },
   "outputs": [],
   "source": [
    "# # print status\n",
    "# !qbraid credits\n",
    "# status = rigetti_task.state()\n",
    "# print('Status of (reconstructed) task:', status)"
   ]
  },
  {
   "cell_type": "markdown",
   "metadata": {},
   "source": [
    "## References\n",
    "https://en.wikipedia.org/wiki/Quantum_teleportation\n",
    "\n",
    "Furusawa, Akira. (2005). Quantum teleportation and its applications. 10.1117/12.572740. "
   ]
  }
 ],
 "metadata": {
  "kernelspec": {
   "display_name": "Python 3 [qBraid-SDK]",
   "language": "python",
   "name": "python3_qbraid_sdk_9j9sjy"
  },
  "language_info": {
   "codemirror_mode": {
    "name": "ipython",
    "version": 3
   },
   "file_extension": ".py",
   "mimetype": "text/x-python",
   "name": "python",
   "nbconvert_exporter": "python",
   "pygments_lexer": "ipython3",
   "version": "3.9.7"
  }
 },
 "nbformat": 4,
 "nbformat_minor": 4
}
